{
  "nbformat": 4,
  "nbformat_minor": 0,
  "metadata": {
    "colab": {
      "name": "e1",
      "provenance": [],
      "authorship_tag": "ABX9TyNWDWZiXEA2B2KioUC2x3NF"
    },
    "kernelspec": {
      "name": "python3",
      "display_name": "Python 3"
    },
    "language_info": {
      "name": "python"
    }
  },
  "cells": [
    {
      "cell_type": "code",
      "metadata": {
        "id": "sqS1nwuCEduY"
      },
      "source": [
        "import numpy as np\n",
        "import pandas as pd\n",
        "import matplotlib.pyplot as plt\n",
        "import warnings\n",
        "warnings.filterwarnings(\"ignore\")\n"
      ],
      "execution_count": null,
      "outputs": []
    },
    {
      "cell_type": "code",
      "metadata": {
        "colab": {
          "base_uri": "https://localhost:8080/"
        },
        "id": "tjN25jecIoty",
        "outputId": "1330b3f3-6e02-4a72-f026-54fc5dc581c5"
      },
      "source": [
        "f=open ('/content/bank-names.txt','r', errors=\"ignore\")\n",
        "raw=f.read()\n",
        "print (\"\\t\\t\\tititreading bank-names.txt file\")\n",
        "print (raw)"
      ],
      "execution_count": null,
      "outputs": [
        {
          "output_type": "stream",
          "text": [
            "\t\t\tititreading bank-names.txt file\n",
            "Citation Request:\n",
            "  This dataset is public available for research. The details are described in [Moro et al., 2011]. \n",
            "  Please include this citation if you plan to use this database:\n",
            "\n",
            "  [Moro et al., 2011] S. Moro, R. Laureano and P. Cortez. Using Data Mining for Bank Direct Marketing: An Application of the CRISP-DM Methodology. \n",
            "  In P. Novais et al. (Eds.), Proceedings of the European Simulation and Modelling Conference - ESM'2011, pp. 117-121, Guimarães, Portugal, October, 2011. EUROSIS.\n",
            "\n",
            "  Available at: [pdf] http://hdl.handle.net/1822/14838\n",
            "                [bib] http://www3.dsi.uminho.pt/pcortez/bib/2011-esm-1.txt\n",
            "\n",
            "1. Title: Bank Marketing\n",
            "\n",
            "2. Sources\n",
            "   Created by: Paulo Cortez (Univ. Minho) and Sérgio Moro (ISCTE-IUL) @ 2012\n",
            "   \n",
            "3. Past Usage:\n",
            "\n",
            "  The full dataset was described and analyzed in:\n",
            "\n",
            "  S. Moro, R. Laureano and P. Cortez. Using Data Mining for Bank Direct Marketing: An Application of the CRISP-DM Methodology. \n",
            "  In P. Novais et al. (Eds.), Proceedings of the European Simulation and Modelling Conference - ESM'2011, pp. 117-121, Guimarães, \n",
            "  Portugal, October, 2011. EUROSIS.\n",
            "\n",
            "4. Relevant Information:\n",
            "\n",
            "   The data is related with direct marketing campaigns of a Portuguese banking institution. \n",
            "   The marketing campaigns were based on phone calls. Often, more than one contact to the same client was required, \n",
            "   in order to access if the product (bank term deposit) would be (or not) subscribed. \n",
            "\n",
            "   There are two datasets: \n",
            "      1) bank-full.csv with all examples, ordered by date (from May 2008 to November 2010).\n",
            "      2) bank.csv with 10% of the examples (4521), randomly selected from bank-full.csv.\n",
            "   The smallest dataset is provided to test more computationally demanding machine learning algorithms (e.g. SVM).\n",
            "\n",
            "   The classification goal is to predict if the client will subscribe a term deposit (variable y).\n",
            "\n",
            "5. Number of Instances: 45211 for bank-full.csv (4521 for bank.csv)\n",
            "\n",
            "6. Number of Attributes: 16 + output attribute.\n",
            "\n",
            "7. Attribute information:\n",
            "\n",
            "   For more information, read [Moro et al., 2011].\n",
            "\n",
            "   Input variables:\n",
            "   # bank client data:\n",
            "   1 - age (numeric)\n",
            "   2 - job : type of job (categorical: \"admin.\",\"unknown\",\"unemployed\",\"management\",\"housemaid\",\"entrepreneur\",\"student\",\n",
            "                                       \"blue-collar\",\"self-employed\",\"retired\",\"technician\",\"services\") \n",
            "   3 - marital : marital status (categorical: \"married\",\"divorced\",\"single\"; note: \"divorced\" means divorced or widowed)\n",
            "   4 - education (categorical: \"unknown\",\"secondary\",\"primary\",\"tertiary\")\n",
            "   5 - default: has credit in default? (binary: \"yes\",\"no\")\n",
            "   6 - balance: average yearly balance, in euros (numeric) \n",
            "   7 - housing: has housing loan? (binary: \"yes\",\"no\")\n",
            "   8 - loan: has personal loan? (binary: \"yes\",\"no\")\n",
            "   # related with the last contact of the current campaign:\n",
            "   9 - contact: contact communication type (categorical: \"unknown\",\"telephone\",\"cellular\") \n",
            "  10 - day: last contact day of the month (numeric)\n",
            "  11 - month: last contact month of year (categorical: \"jan\", \"feb\", \"mar\", ..., \"nov\", \"dec\")\n",
            "  12 - duration: last contact duration, in seconds (numeric)\n",
            "   # other attributes:\n",
            "  13 - campaign: number of contacts performed during this campaign and for this client (numeric, includes last contact)\n",
            "  14 - pdays: number of days that passed by after the client was last contacted from a previous campaign (numeric, -1 means client was not previously contacted)\n",
            "  15 - previous: number of contacts performed before this campaign and for this client (numeric)\n",
            "  16 - poutcome: outcome of the previous marketing campaign (categorical: \"unknown\",\"other\",\"failure\",\"success\")\n",
            "\n",
            "  Output variable (desired target):\n",
            "  17 - y - has the client subscribed a term deposit? (binary: \"yes\",\"no\")\n",
            "\n",
            "8. Missing Attribute Values: None\n",
            "\n"
          ],
          "name": "stdout"
        }
      ]
    },
    {
      "cell_type": "code",
      "metadata": {
        "id": "ZPyhWOadEoIf"
      },
      "source": [
        "B_full=pd.read_csv(\"/content/bank-full.csv\",index_col=0, sep = ';') \n",
        "Bank=pd.read_csv('/content/bank.csv',index_col=0, sep = ';')\n"
      ],
      "execution_count": null,
      "outputs": []
    },
    {
      "cell_type": "code",
      "metadata": {
        "colab": {
          "base_uri": "https://localhost:8080/",
          "height": 255
        },
        "id": "nIQRLkE4LPjz",
        "outputId": "d3cb86a8-a0de-4ec2-d9bc-02eb2146b373"
      },
      "source": [
        "B_full.head()\n",
        "Bank.head()\n"
      ],
      "execution_count": null,
      "outputs": [
        {
          "output_type": "execute_result",
          "data": {
            "text/html": [
              "<div>\n",
              "<style scoped>\n",
              "    .dataframe tbody tr th:only-of-type {\n",
              "        vertical-align: middle;\n",
              "    }\n",
              "\n",
              "    .dataframe tbody tr th {\n",
              "        vertical-align: top;\n",
              "    }\n",
              "\n",
              "    .dataframe thead th {\n",
              "        text-align: right;\n",
              "    }\n",
              "</style>\n",
              "<table border=\"1\" class=\"dataframe\">\n",
              "  <thead>\n",
              "    <tr style=\"text-align: right;\">\n",
              "      <th></th>\n",
              "      <th>job</th>\n",
              "      <th>marital</th>\n",
              "      <th>education</th>\n",
              "      <th>default</th>\n",
              "      <th>balance</th>\n",
              "      <th>housing</th>\n",
              "      <th>loan</th>\n",
              "      <th>contact</th>\n",
              "      <th>day</th>\n",
              "      <th>month</th>\n",
              "      <th>duration</th>\n",
              "      <th>campaign</th>\n",
              "      <th>pdays</th>\n",
              "      <th>previous</th>\n",
              "      <th>poutcome</th>\n",
              "      <th>y</th>\n",
              "    </tr>\n",
              "    <tr>\n",
              "      <th>age</th>\n",
              "      <th></th>\n",
              "      <th></th>\n",
              "      <th></th>\n",
              "      <th></th>\n",
              "      <th></th>\n",
              "      <th></th>\n",
              "      <th></th>\n",
              "      <th></th>\n",
              "      <th></th>\n",
              "      <th></th>\n",
              "      <th></th>\n",
              "      <th></th>\n",
              "      <th></th>\n",
              "      <th></th>\n",
              "      <th></th>\n",
              "      <th></th>\n",
              "    </tr>\n",
              "  </thead>\n",
              "  <tbody>\n",
              "    <tr>\n",
              "      <th>30</th>\n",
              "      <td>unemployed</td>\n",
              "      <td>married</td>\n",
              "      <td>primary</td>\n",
              "      <td>no</td>\n",
              "      <td>1787</td>\n",
              "      <td>no</td>\n",
              "      <td>no</td>\n",
              "      <td>cellular</td>\n",
              "      <td>19</td>\n",
              "      <td>oct</td>\n",
              "      <td>79</td>\n",
              "      <td>1</td>\n",
              "      <td>-1</td>\n",
              "      <td>0</td>\n",
              "      <td>unknown</td>\n",
              "      <td>no</td>\n",
              "    </tr>\n",
              "    <tr>\n",
              "      <th>33</th>\n",
              "      <td>services</td>\n",
              "      <td>married</td>\n",
              "      <td>secondary</td>\n",
              "      <td>no</td>\n",
              "      <td>4789</td>\n",
              "      <td>yes</td>\n",
              "      <td>yes</td>\n",
              "      <td>cellular</td>\n",
              "      <td>11</td>\n",
              "      <td>may</td>\n",
              "      <td>220</td>\n",
              "      <td>1</td>\n",
              "      <td>339</td>\n",
              "      <td>4</td>\n",
              "      <td>failure</td>\n",
              "      <td>no</td>\n",
              "    </tr>\n",
              "    <tr>\n",
              "      <th>35</th>\n",
              "      <td>management</td>\n",
              "      <td>single</td>\n",
              "      <td>tertiary</td>\n",
              "      <td>no</td>\n",
              "      <td>1350</td>\n",
              "      <td>yes</td>\n",
              "      <td>no</td>\n",
              "      <td>cellular</td>\n",
              "      <td>16</td>\n",
              "      <td>apr</td>\n",
              "      <td>185</td>\n",
              "      <td>1</td>\n",
              "      <td>330</td>\n",
              "      <td>1</td>\n",
              "      <td>failure</td>\n",
              "      <td>no</td>\n",
              "    </tr>\n",
              "    <tr>\n",
              "      <th>30</th>\n",
              "      <td>management</td>\n",
              "      <td>married</td>\n",
              "      <td>tertiary</td>\n",
              "      <td>no</td>\n",
              "      <td>1476</td>\n",
              "      <td>yes</td>\n",
              "      <td>yes</td>\n",
              "      <td>unknown</td>\n",
              "      <td>3</td>\n",
              "      <td>jun</td>\n",
              "      <td>199</td>\n",
              "      <td>4</td>\n",
              "      <td>-1</td>\n",
              "      <td>0</td>\n",
              "      <td>unknown</td>\n",
              "      <td>no</td>\n",
              "    </tr>\n",
              "    <tr>\n",
              "      <th>59</th>\n",
              "      <td>blue-collar</td>\n",
              "      <td>married</td>\n",
              "      <td>secondary</td>\n",
              "      <td>no</td>\n",
              "      <td>0</td>\n",
              "      <td>yes</td>\n",
              "      <td>no</td>\n",
              "      <td>unknown</td>\n",
              "      <td>5</td>\n",
              "      <td>may</td>\n",
              "      <td>226</td>\n",
              "      <td>1</td>\n",
              "      <td>-1</td>\n",
              "      <td>0</td>\n",
              "      <td>unknown</td>\n",
              "      <td>no</td>\n",
              "    </tr>\n",
              "  </tbody>\n",
              "</table>\n",
              "</div>"
            ],
            "text/plain": [
              "             job  marital  education default  ...  pdays previous poutcome   y\n",
              "age                                           ...                             \n",
              "30    unemployed  married    primary      no  ...     -1        0  unknown  no\n",
              "33      services  married  secondary      no  ...    339        4  failure  no\n",
              "35    management   single   tertiary      no  ...    330        1  failure  no\n",
              "30    management  married   tertiary      no  ...     -1        0  unknown  no\n",
              "59   blue-collar  married  secondary      no  ...     -1        0  unknown  no\n",
              "\n",
              "[5 rows x 16 columns]"
            ]
          },
          "metadata": {
            "tags": []
          },
          "execution_count": 21
        }
      ]
    },
    {
      "cell_type": "code",
      "metadata": {
        "colab": {
          "base_uri": "https://localhost:8080/",
          "height": 255
        },
        "id": "dwRRbTamLZ0B",
        "outputId": "80964d55-3775-4ba7-8ed6-d3dce5fd5a57"
      },
      "source": [
        "Bank.head()"
      ],
      "execution_count": null,
      "outputs": [
        {
          "output_type": "execute_result",
          "data": {
            "text/html": [
              "<div>\n",
              "<style scoped>\n",
              "    .dataframe tbody tr th:only-of-type {\n",
              "        vertical-align: middle;\n",
              "    }\n",
              "\n",
              "    .dataframe tbody tr th {\n",
              "        vertical-align: top;\n",
              "    }\n",
              "\n",
              "    .dataframe thead th {\n",
              "        text-align: right;\n",
              "    }\n",
              "</style>\n",
              "<table border=\"1\" class=\"dataframe\">\n",
              "  <thead>\n",
              "    <tr style=\"text-align: right;\">\n",
              "      <th></th>\n",
              "      <th>job</th>\n",
              "      <th>marital</th>\n",
              "      <th>education</th>\n",
              "      <th>default</th>\n",
              "      <th>balance</th>\n",
              "      <th>housing</th>\n",
              "      <th>loan</th>\n",
              "      <th>contact</th>\n",
              "      <th>day</th>\n",
              "      <th>month</th>\n",
              "      <th>duration</th>\n",
              "      <th>campaign</th>\n",
              "      <th>pdays</th>\n",
              "      <th>previous</th>\n",
              "      <th>poutcome</th>\n",
              "      <th>y</th>\n",
              "    </tr>\n",
              "    <tr>\n",
              "      <th>age</th>\n",
              "      <th></th>\n",
              "      <th></th>\n",
              "      <th></th>\n",
              "      <th></th>\n",
              "      <th></th>\n",
              "      <th></th>\n",
              "      <th></th>\n",
              "      <th></th>\n",
              "      <th></th>\n",
              "      <th></th>\n",
              "      <th></th>\n",
              "      <th></th>\n",
              "      <th></th>\n",
              "      <th></th>\n",
              "      <th></th>\n",
              "      <th></th>\n",
              "    </tr>\n",
              "  </thead>\n",
              "  <tbody>\n",
              "    <tr>\n",
              "      <th>30</th>\n",
              "      <td>unemployed</td>\n",
              "      <td>married</td>\n",
              "      <td>primary</td>\n",
              "      <td>no</td>\n",
              "      <td>1787</td>\n",
              "      <td>no</td>\n",
              "      <td>no</td>\n",
              "      <td>cellular</td>\n",
              "      <td>19</td>\n",
              "      <td>oct</td>\n",
              "      <td>79</td>\n",
              "      <td>1</td>\n",
              "      <td>-1</td>\n",
              "      <td>0</td>\n",
              "      <td>unknown</td>\n",
              "      <td>no</td>\n",
              "    </tr>\n",
              "    <tr>\n",
              "      <th>33</th>\n",
              "      <td>services</td>\n",
              "      <td>married</td>\n",
              "      <td>secondary</td>\n",
              "      <td>no</td>\n",
              "      <td>4789</td>\n",
              "      <td>yes</td>\n",
              "      <td>yes</td>\n",
              "      <td>cellular</td>\n",
              "      <td>11</td>\n",
              "      <td>may</td>\n",
              "      <td>220</td>\n",
              "      <td>1</td>\n",
              "      <td>339</td>\n",
              "      <td>4</td>\n",
              "      <td>failure</td>\n",
              "      <td>no</td>\n",
              "    </tr>\n",
              "    <tr>\n",
              "      <th>35</th>\n",
              "      <td>management</td>\n",
              "      <td>single</td>\n",
              "      <td>tertiary</td>\n",
              "      <td>no</td>\n",
              "      <td>1350</td>\n",
              "      <td>yes</td>\n",
              "      <td>no</td>\n",
              "      <td>cellular</td>\n",
              "      <td>16</td>\n",
              "      <td>apr</td>\n",
              "      <td>185</td>\n",
              "      <td>1</td>\n",
              "      <td>330</td>\n",
              "      <td>1</td>\n",
              "      <td>failure</td>\n",
              "      <td>no</td>\n",
              "    </tr>\n",
              "    <tr>\n",
              "      <th>30</th>\n",
              "      <td>management</td>\n",
              "      <td>married</td>\n",
              "      <td>tertiary</td>\n",
              "      <td>no</td>\n",
              "      <td>1476</td>\n",
              "      <td>yes</td>\n",
              "      <td>yes</td>\n",
              "      <td>unknown</td>\n",
              "      <td>3</td>\n",
              "      <td>jun</td>\n",
              "      <td>199</td>\n",
              "      <td>4</td>\n",
              "      <td>-1</td>\n",
              "      <td>0</td>\n",
              "      <td>unknown</td>\n",
              "      <td>no</td>\n",
              "    </tr>\n",
              "    <tr>\n",
              "      <th>59</th>\n",
              "      <td>blue-collar</td>\n",
              "      <td>married</td>\n",
              "      <td>secondary</td>\n",
              "      <td>no</td>\n",
              "      <td>0</td>\n",
              "      <td>yes</td>\n",
              "      <td>no</td>\n",
              "      <td>unknown</td>\n",
              "      <td>5</td>\n",
              "      <td>may</td>\n",
              "      <td>226</td>\n",
              "      <td>1</td>\n",
              "      <td>-1</td>\n",
              "      <td>0</td>\n",
              "      <td>unknown</td>\n",
              "      <td>no</td>\n",
              "    </tr>\n",
              "  </tbody>\n",
              "</table>\n",
              "</div>"
            ],
            "text/plain": [
              "             job  marital  education default  ...  pdays previous poutcome   y\n",
              "age                                           ...                             \n",
              "30    unemployed  married    primary      no  ...     -1        0  unknown  no\n",
              "33      services  married  secondary      no  ...    339        4  failure  no\n",
              "35    management   single   tertiary      no  ...    330        1  failure  no\n",
              "30    management  married   tertiary      no  ...     -1        0  unknown  no\n",
              "59   blue-collar  married  secondary      no  ...     -1        0  unknown  no\n",
              "\n",
              "[5 rows x 16 columns]"
            ]
          },
          "metadata": {
            "tags": []
          },
          "execution_count": 22
        }
      ]
    },
    {
      "cell_type": "code",
      "metadata": {
        "colab": {
          "base_uri": "https://localhost:8080/",
          "height": 255
        },
        "id": "dZzUTsO7J7mH",
        "outputId": "1a2f44dd-0ef5-4aa9-e6a4-1c2ba2400579"
      },
      "source": [
        "y = pd.get_dummies(Bank['y'], columns = ['y'],prefix = ['y'], drop_first= True)\n",
        "Bank.head()"
      ],
      "execution_count": null,
      "outputs": [
        {
          "output_type": "execute_result",
          "data": {
            "text/html": [
              "<div>\n",
              "<style scoped>\n",
              "    .dataframe tbody tr th:only-of-type {\n",
              "        vertical-align: middle;\n",
              "    }\n",
              "\n",
              "    .dataframe tbody tr th {\n",
              "        vertical-align: top;\n",
              "    }\n",
              "\n",
              "    .dataframe thead th {\n",
              "        text-align: right;\n",
              "    }\n",
              "</style>\n",
              "<table border=\"1\" class=\"dataframe\">\n",
              "  <thead>\n",
              "    <tr style=\"text-align: right;\">\n",
              "      <th></th>\n",
              "      <th>job</th>\n",
              "      <th>marital</th>\n",
              "      <th>education</th>\n",
              "      <th>default</th>\n",
              "      <th>balance</th>\n",
              "      <th>housing</th>\n",
              "      <th>loan</th>\n",
              "      <th>contact</th>\n",
              "      <th>day</th>\n",
              "      <th>month</th>\n",
              "      <th>duration</th>\n",
              "      <th>campaign</th>\n",
              "      <th>pdays</th>\n",
              "      <th>previous</th>\n",
              "      <th>poutcome</th>\n",
              "      <th>y</th>\n",
              "    </tr>\n",
              "    <tr>\n",
              "      <th>age</th>\n",
              "      <th></th>\n",
              "      <th></th>\n",
              "      <th></th>\n",
              "      <th></th>\n",
              "      <th></th>\n",
              "      <th></th>\n",
              "      <th></th>\n",
              "      <th></th>\n",
              "      <th></th>\n",
              "      <th></th>\n",
              "      <th></th>\n",
              "      <th></th>\n",
              "      <th></th>\n",
              "      <th></th>\n",
              "      <th></th>\n",
              "      <th></th>\n",
              "    </tr>\n",
              "  </thead>\n",
              "  <tbody>\n",
              "    <tr>\n",
              "      <th>30</th>\n",
              "      <td>unemployed</td>\n",
              "      <td>married</td>\n",
              "      <td>primary</td>\n",
              "      <td>no</td>\n",
              "      <td>1787</td>\n",
              "      <td>no</td>\n",
              "      <td>no</td>\n",
              "      <td>cellular</td>\n",
              "      <td>19</td>\n",
              "      <td>oct</td>\n",
              "      <td>79</td>\n",
              "      <td>1</td>\n",
              "      <td>-1</td>\n",
              "      <td>0</td>\n",
              "      <td>unknown</td>\n",
              "      <td>no</td>\n",
              "    </tr>\n",
              "    <tr>\n",
              "      <th>33</th>\n",
              "      <td>services</td>\n",
              "      <td>married</td>\n",
              "      <td>secondary</td>\n",
              "      <td>no</td>\n",
              "      <td>4789</td>\n",
              "      <td>yes</td>\n",
              "      <td>yes</td>\n",
              "      <td>cellular</td>\n",
              "      <td>11</td>\n",
              "      <td>may</td>\n",
              "      <td>220</td>\n",
              "      <td>1</td>\n",
              "      <td>339</td>\n",
              "      <td>4</td>\n",
              "      <td>failure</td>\n",
              "      <td>no</td>\n",
              "    </tr>\n",
              "    <tr>\n",
              "      <th>35</th>\n",
              "      <td>management</td>\n",
              "      <td>single</td>\n",
              "      <td>tertiary</td>\n",
              "      <td>no</td>\n",
              "      <td>1350</td>\n",
              "      <td>yes</td>\n",
              "      <td>no</td>\n",
              "      <td>cellular</td>\n",
              "      <td>16</td>\n",
              "      <td>apr</td>\n",
              "      <td>185</td>\n",
              "      <td>1</td>\n",
              "      <td>330</td>\n",
              "      <td>1</td>\n",
              "      <td>failure</td>\n",
              "      <td>no</td>\n",
              "    </tr>\n",
              "    <tr>\n",
              "      <th>30</th>\n",
              "      <td>management</td>\n",
              "      <td>married</td>\n",
              "      <td>tertiary</td>\n",
              "      <td>no</td>\n",
              "      <td>1476</td>\n",
              "      <td>yes</td>\n",
              "      <td>yes</td>\n",
              "      <td>unknown</td>\n",
              "      <td>3</td>\n",
              "      <td>jun</td>\n",
              "      <td>199</td>\n",
              "      <td>4</td>\n",
              "      <td>-1</td>\n",
              "      <td>0</td>\n",
              "      <td>unknown</td>\n",
              "      <td>no</td>\n",
              "    </tr>\n",
              "    <tr>\n",
              "      <th>59</th>\n",
              "      <td>blue-collar</td>\n",
              "      <td>married</td>\n",
              "      <td>secondary</td>\n",
              "      <td>no</td>\n",
              "      <td>0</td>\n",
              "      <td>yes</td>\n",
              "      <td>no</td>\n",
              "      <td>unknown</td>\n",
              "      <td>5</td>\n",
              "      <td>may</td>\n",
              "      <td>226</td>\n",
              "      <td>1</td>\n",
              "      <td>-1</td>\n",
              "      <td>0</td>\n",
              "      <td>unknown</td>\n",
              "      <td>no</td>\n",
              "    </tr>\n",
              "  </tbody>\n",
              "</table>\n",
              "</div>"
            ],
            "text/plain": [
              "             job  marital  education default  ...  pdays previous poutcome   y\n",
              "age                                           ...                             \n",
              "30    unemployed  married    primary      no  ...     -1        0  unknown  no\n",
              "33      services  married  secondary      no  ...    339        4  failure  no\n",
              "35    management   single   tertiary      no  ...    330        1  failure  no\n",
              "30    management  married   tertiary      no  ...     -1        0  unknown  no\n",
              "59   blue-collar  married  secondary      no  ...     -1        0  unknown  no\n",
              "\n",
              "[5 rows x 16 columns]"
            ]
          },
          "metadata": {
            "tags": []
          },
          "execution_count": 23
        }
      ]
    },
    {
      "cell_type": "code",
      "metadata": {
        "colab": {
          "base_uri": "https://localhost:8080/"
        },
        "id": "lKrFnKncJoAK",
        "outputId": "776be251-f0fa-42df-ac8b-180ec0564a63"
      },
      "source": [
        "#printing with 7 records\n",
        "y=Bank.iloc[ :7]\n",
        "print(\"\\t\\t\\tprinting 7 records\") \n",
        "print(y)\n"
      ],
      "execution_count": null,
      "outputs": [
        {
          "output_type": "stream",
          "text": [
            "\t\t\tprinting 7 records\n",
            "               job  marital  education default  ...  pdays previous poutcome   y\n",
            "age                                             ...                             \n",
            "30      unemployed  married    primary      no  ...     -1        0  unknown  no\n",
            "33        services  married  secondary      no  ...    339        4  failure  no\n",
            "35      management   single   tertiary      no  ...    330        1  failure  no\n",
            "30      management  married   tertiary      no  ...     -1        0  unknown  no\n",
            "59     blue-collar  married  secondary      no  ...     -1        0  unknown  no\n",
            "35      management   single   tertiary      no  ...    176        3  failure  no\n",
            "36   self-employed  married   tertiary      no  ...    330        2    other  no\n",
            "\n",
            "[7 rows x 16 columns]\n"
          ],
          "name": "stdout"
        }
      ]
    },
    {
      "cell_type": "code",
      "metadata": {
        "colab": {
          "base_uri": "https://localhost:8080/",
          "height": 272
        },
        "id": "9-y5qavsJzSp",
        "outputId": "299e212e-c6c7-49cd-ebc9-7e74c618d612"
      },
      "source": [
        "print(\"\\t\\t\\t\\t\\tprinting top 5 out of 7 records\")\n",
        "y.head()\n",
        " "
      ],
      "execution_count": null,
      "outputs": [
        {
          "output_type": "stream",
          "text": [
            "\t\t\t\t\tprinting top 5 out of 7 records\n"
          ],
          "name": "stdout"
        },
        {
          "output_type": "execute_result",
          "data": {
            "text/html": [
              "<div>\n",
              "<style scoped>\n",
              "    .dataframe tbody tr th:only-of-type {\n",
              "        vertical-align: middle;\n",
              "    }\n",
              "\n",
              "    .dataframe tbody tr th {\n",
              "        vertical-align: top;\n",
              "    }\n",
              "\n",
              "    .dataframe thead th {\n",
              "        text-align: right;\n",
              "    }\n",
              "</style>\n",
              "<table border=\"1\" class=\"dataframe\">\n",
              "  <thead>\n",
              "    <tr style=\"text-align: right;\">\n",
              "      <th></th>\n",
              "      <th>job</th>\n",
              "      <th>marital</th>\n",
              "      <th>education</th>\n",
              "      <th>default</th>\n",
              "      <th>balance</th>\n",
              "      <th>housing</th>\n",
              "      <th>loan</th>\n",
              "      <th>contact</th>\n",
              "      <th>day</th>\n",
              "      <th>month</th>\n",
              "      <th>duration</th>\n",
              "      <th>campaign</th>\n",
              "      <th>pdays</th>\n",
              "      <th>previous</th>\n",
              "      <th>poutcome</th>\n",
              "      <th>y</th>\n",
              "    </tr>\n",
              "    <tr>\n",
              "      <th>age</th>\n",
              "      <th></th>\n",
              "      <th></th>\n",
              "      <th></th>\n",
              "      <th></th>\n",
              "      <th></th>\n",
              "      <th></th>\n",
              "      <th></th>\n",
              "      <th></th>\n",
              "      <th></th>\n",
              "      <th></th>\n",
              "      <th></th>\n",
              "      <th></th>\n",
              "      <th></th>\n",
              "      <th></th>\n",
              "      <th></th>\n",
              "      <th></th>\n",
              "    </tr>\n",
              "  </thead>\n",
              "  <tbody>\n",
              "    <tr>\n",
              "      <th>30</th>\n",
              "      <td>unemployed</td>\n",
              "      <td>married</td>\n",
              "      <td>primary</td>\n",
              "      <td>no</td>\n",
              "      <td>1787</td>\n",
              "      <td>no</td>\n",
              "      <td>no</td>\n",
              "      <td>cellular</td>\n",
              "      <td>19</td>\n",
              "      <td>oct</td>\n",
              "      <td>79</td>\n",
              "      <td>1</td>\n",
              "      <td>-1</td>\n",
              "      <td>0</td>\n",
              "      <td>unknown</td>\n",
              "      <td>no</td>\n",
              "    </tr>\n",
              "    <tr>\n",
              "      <th>33</th>\n",
              "      <td>services</td>\n",
              "      <td>married</td>\n",
              "      <td>secondary</td>\n",
              "      <td>no</td>\n",
              "      <td>4789</td>\n",
              "      <td>yes</td>\n",
              "      <td>yes</td>\n",
              "      <td>cellular</td>\n",
              "      <td>11</td>\n",
              "      <td>may</td>\n",
              "      <td>220</td>\n",
              "      <td>1</td>\n",
              "      <td>339</td>\n",
              "      <td>4</td>\n",
              "      <td>failure</td>\n",
              "      <td>no</td>\n",
              "    </tr>\n",
              "    <tr>\n",
              "      <th>35</th>\n",
              "      <td>management</td>\n",
              "      <td>single</td>\n",
              "      <td>tertiary</td>\n",
              "      <td>no</td>\n",
              "      <td>1350</td>\n",
              "      <td>yes</td>\n",
              "      <td>no</td>\n",
              "      <td>cellular</td>\n",
              "      <td>16</td>\n",
              "      <td>apr</td>\n",
              "      <td>185</td>\n",
              "      <td>1</td>\n",
              "      <td>330</td>\n",
              "      <td>1</td>\n",
              "      <td>failure</td>\n",
              "      <td>no</td>\n",
              "    </tr>\n",
              "    <tr>\n",
              "      <th>30</th>\n",
              "      <td>management</td>\n",
              "      <td>married</td>\n",
              "      <td>tertiary</td>\n",
              "      <td>no</td>\n",
              "      <td>1476</td>\n",
              "      <td>yes</td>\n",
              "      <td>yes</td>\n",
              "      <td>unknown</td>\n",
              "      <td>3</td>\n",
              "      <td>jun</td>\n",
              "      <td>199</td>\n",
              "      <td>4</td>\n",
              "      <td>-1</td>\n",
              "      <td>0</td>\n",
              "      <td>unknown</td>\n",
              "      <td>no</td>\n",
              "    </tr>\n",
              "    <tr>\n",
              "      <th>59</th>\n",
              "      <td>blue-collar</td>\n",
              "      <td>married</td>\n",
              "      <td>secondary</td>\n",
              "      <td>no</td>\n",
              "      <td>0</td>\n",
              "      <td>yes</td>\n",
              "      <td>no</td>\n",
              "      <td>unknown</td>\n",
              "      <td>5</td>\n",
              "      <td>may</td>\n",
              "      <td>226</td>\n",
              "      <td>1</td>\n",
              "      <td>-1</td>\n",
              "      <td>0</td>\n",
              "      <td>unknown</td>\n",
              "      <td>no</td>\n",
              "    </tr>\n",
              "  </tbody>\n",
              "</table>\n",
              "</div>"
            ],
            "text/plain": [
              "             job  marital  education default  ...  pdays previous poutcome   y\n",
              "age                                           ...                             \n",
              "30    unemployed  married    primary      no  ...     -1        0  unknown  no\n",
              "33      services  married  secondary      no  ...    339        4  failure  no\n",
              "35    management   single   tertiary      no  ...    330        1  failure  no\n",
              "30    management  married   tertiary      no  ...     -1        0  unknown  no\n",
              "59   blue-collar  married  secondary      no  ...     -1        0  unknown  no\n",
              "\n",
              "[5 rows x 16 columns]"
            ]
          },
          "metadata": {
            "tags": []
          },
          "execution_count": 25
        }
      ]
    },
    {
      "cell_type": "code",
      "metadata": {
        "colab": {
          "base_uri": "https://localhost:8080/"
        },
        "id": "oxJ4Ute2J1GK",
        "outputId": "9ddd17fb-0cd7-4bb4-987e-902cb69c69e4"
      },
      "source": [
        "print('Jobs: \\n', Bank['job'].unique(),'\\n')\n",
        "print('Jobs:\\n', Bank['job'].unique(),'\\n')\n",
        "print('education:\\n', Bank['education'].unique())"
      ],
      "execution_count": null,
      "outputs": [
        {
          "output_type": "stream",
          "text": [
            "Jobs: \n",
            " ['unemployed' 'services' 'management' 'blue-collar' 'self-employed'\n",
            " 'technician' 'entrepreneur' 'admin.' 'student' 'housemaid' 'retired'\n",
            " 'unknown'] \n",
            "\n",
            "Jobs:\n",
            " ['unemployed' 'services' 'management' 'blue-collar' 'self-employed'\n",
            " 'technician' 'entrepreneur' 'admin.' 'student' 'housemaid' 'retired'\n",
            " 'unknown'] \n",
            "\n",
            "education:\n",
            " ['primary' 'secondary' 'tertiary' 'unknown']\n"
          ],
          "name": "stdout"
        }
      ]
    },
    {
      "cell_type": "code",
      "metadata": {
        "id": "g1o7PAJTOxeN",
        "colab": {
          "base_uri": "https://localhost:8080/"
        },
        "outputId": "9414bd0c-bc8a-4605-af9f-125b1d642cc8"
      },
      "source": [
        "print(\"\\t\\tExploring and demonstrating Python\")\n",
        "import pandas as pd\n",
        "s = pd.Series([1, 3, 5, 10, 6, 8])\n",
        "print(\"Pandas dataseries\\n\", s)"
      ],
      "execution_count": null,
      "outputs": [
        {
          "output_type": "stream",
          "text": [
            "\t\tExploring and demonstrating Python\n",
            "Pandas dataseries\n",
            " 0     1\n",
            "1     3\n",
            "2     5\n",
            "3    10\n",
            "4     6\n",
            "5     8\n",
            "dtype: int64\n"
          ],
          "name": "stdout"
        }
      ]
    },
    {
      "cell_type": "code",
      "metadata": {
        "id": "4Yb_NKj-sfEl",
        "colab": {
          "base_uri": "https://localhost:8080/"
        },
        "outputId": "5f1802db-5d85-4b49-c07a-81478a181763"
      },
      "source": [
        "df = pd.DataFrame(np.random.randn(9, 4),columns=['a','b','c','d'])\n",
        "print(\"Pandas DataFrame \\n\", df)\n"
      ],
      "execution_count": null,
      "outputs": [
        {
          "output_type": "stream",
          "text": [
            "Pandas DataFrame \n",
            "           a         b         c         d\n",
            "0  0.605608 -0.708098 -0.161273  0.593611\n",
            "1 -0.883625 -1.675791 -1.175730 -0.293397\n",
            "2 -1.442037  1.091053 -0.883147  0.324965\n",
            "3  1.901848 -0.443546 -0.473843 -1.115304\n",
            "4  0.987045 -0.914377 -0.108078  0.014099\n",
            "5  0.642707  0.206733 -0.105412 -0.888409\n",
            "6 -0.999710  1.398213  0.406464  0.565612\n",
            "7 -1.249023  0.129043 -0.284184 -1.395795\n",
            "8 -0.161168 -1.574298 -0.515015  0.059882\n"
          ],
          "name": "stdout"
        }
      ]
    },
    {
      "cell_type": "code",
      "metadata": {
        "id": "P-3PsJOrsf_k",
        "colab": {
          "base_uri": "https://localhost:8080/"
        },
        "outputId": "8e62f710-4d71-43ff-9f94-46076c31f6e8"
      },
      "source": [
        "print(\"To access a specific element using iloc  \\n\", df.iloc[0,1])"
      ],
      "execution_count": null,
      "outputs": [
        {
          "output_type": "stream",
          "text": [
            "To access a specific element using iloc  \n",
            " -0.7080976669970884\n"
          ],
          "name": "stdout"
        }
      ]
    },
    {
      "cell_type": "code",
      "metadata": {
        "id": "q33nrcsNswij",
        "colab": {
          "base_uri": "https://localhost:8080/"
        },
        "outputId": "1ebd65c6-f7b1-48b9-bb3d-3fa26cd71c8b"
      },
      "source": [
        "print(\"Acessing a specific section of data\\n\", df.iloc[0:3,0:2])"
      ],
      "execution_count": null,
      "outputs": [
        {
          "output_type": "stream",
          "text": [
            "Acessing a specific section of data\n",
            "           a         b\n",
            "0  0.605608 -0.708098\n",
            "1 -0.883625 -1.675791\n",
            "2 -1.442037  1.091053\n"
          ],
          "name": "stdout"
        }
      ]
    },
    {
      "cell_type": "code",
      "metadata": {
        "id": "Ty2vVR6YRfQr",
        "colab": {
          "base_uri": "https://localhost:8080/"
        },
        "outputId": "8f6f8908-5e65-4e0c-a19f-df5dfc83292c"
      },
      "source": [
        "print(\"Printing the top section of the dataset \\n\",df.head(5))"
      ],
      "execution_count": null,
      "outputs": [
        {
          "output_type": "stream",
          "text": [
            "Printing the top section of the dataset \n",
            "           a         b         c         d\n",
            "0  0.605608 -0.708098 -0.161273  0.593611\n",
            "1 -0.883625 -1.675791 -1.175730 -0.293397\n",
            "2 -1.442037  1.091053 -0.883147  0.324965\n",
            "3  1.901848 -0.443546 -0.473843 -1.115304\n",
            "4  0.987045 -0.914377 -0.108078  0.014099\n"
          ],
          "name": "stdout"
        }
      ]
    },
    {
      "cell_type": "code",
      "metadata": {
        "id": "hV8AxTcls4er",
        "colab": {
          "base_uri": "https://localhost:8080/"
        },
        "outputId": "1cbedefe-fcb5-4c2b-8a29-aa13140962f4"
      },
      "source": [
        "print(\"Printing the bottom section of the dataset \\n\",df.tail(3))"
      ],
      "execution_count": null,
      "outputs": [
        {
          "output_type": "stream",
          "text": [
            "Printing the bottom section of the dataset \n",
            "           a         b         c         d\n",
            "6 -0.999710  1.398213  0.406464  0.565612\n",
            "7 -1.249023  0.129043 -0.284184 -1.395795\n",
            "8 -0.161168 -1.574298 -0.515015  0.059882\n"
          ],
          "name": "stdout"
        }
      ]
    },
    {
      "cell_type": "code",
      "metadata": {
        "id": "cCsRESjrs5X9",
        "colab": {
          "base_uri": "https://localhost:8080/"
        },
        "outputId": "0817adf4-7863-44fb-e007-39108cd3e048"
      },
      "source": [
        "print(\"Summary of the dataset \\n\", df.describe())"
      ],
      "execution_count": null,
      "outputs": [
        {
          "output_type": "stream",
          "text": [
            "Summary of the dataset \n",
            "               a         b         c         d\n",
            "count  9.000000  9.000000  9.000000  9.000000\n",
            "mean  -0.066484 -0.276785 -0.366691 -0.237193\n",
            "std    1.160660  1.080290  0.465923  0.736786\n",
            "min   -1.442037 -1.675791 -1.175730 -1.395795\n",
            "25%   -0.999710 -0.914377 -0.515015 -0.888409\n",
            "50%   -0.161168 -0.443546 -0.284184  0.014099\n",
            "75%    0.642707  0.206733 -0.108078  0.324965\n",
            "max    1.901848  1.398213  0.406464  0.593611\n"
          ],
          "name": "stdout"
        }
      ]
    },
    {
      "cell_type": "code",
      "metadata": {
        "id": "a2Il_hkIVe2B",
        "colab": {
          "base_uri": "https://localhost:8080/"
        },
        "outputId": "f83f0f93-f3b8-4d59-dc11-9bcebfed65dd"
      },
      "source": [
        "print(df.to_numpy())"
      ],
      "execution_count": null,
      "outputs": [
        {
          "output_type": "stream",
          "text": [
            "[[ 0.60560793 -0.70809767 -0.16127334  0.59361128]\n",
            " [-0.88362482 -1.67579141 -1.17573032 -0.29339704]\n",
            " [-1.44203683  1.09105281 -0.88314749  0.32496458]\n",
            " [ 1.90184782 -0.44354563 -0.47384279 -1.11530381]\n",
            " [ 0.98704462 -0.91437749 -0.10807804  0.01409914]\n",
            " [ 0.64270728  0.20673329 -0.10541183 -0.88840857]\n",
            " [-0.99971032  1.39821288  0.40646397  0.56561221]\n",
            " [-1.24902262  0.12904262 -0.28418393 -1.39579515]\n",
            " [-0.16116775 -1.57429788 -0.51501488  0.0598819 ]]\n"
          ],
          "name": "stdout"
        }
      ]
    }
  ]
}