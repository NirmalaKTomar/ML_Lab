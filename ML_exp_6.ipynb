{
  "nbformat": 4,
  "nbformat_minor": 0,
  "metadata": {
    "colab": {
      "name": "ML exp-6",
      "provenance": [],
      "authorship_tag": "ABX9TyO73hGMJYXUnjuC+Rvsr8o9"
    },
    "kernelspec": {
      "name": "python3",
      "display_name": "Python 3"
    }
  },
  "cells": [
    {
      "cell_type": "code",
      "metadata": {
        "id": "MezvrLQRFRPa",
        "colab": {
          "base_uri": "https://localhost:8080/"
        },
        "outputId": "036f3eaa-0d41-4b38-c84f-b2ac639ebc92"
      },
      "source": [
        "print(\"Exp-6,Write a prg to implement Linear Regression using any dataset\")"
      ],
      "execution_count": null,
      "outputs": [
        {
          "output_type": "stream",
          "text": [
            "Exp-6,Write a prg to implement Linear Regression using any app.dataset\n"
          ],
          "name": "stdout"
        }
      ]
    },
    {
      "cell_type": "code",
      "metadata": {
        "id": "nkbLbWG4E8S6",
        "colab": {
          "base_uri": "https://localhost:8080/"
        },
        "outputId": "f3689837-6ede-4e5c-89ab-aff0bcecd120"
      },
      "source": [
        "print(\"implementing Linear Regression on boston house data price\\n\")"
      ],
      "execution_count": null,
      "outputs": [
        {
          "output_type": "stream",
          "text": [
            "implementing Linear Regression on boston house data price\n",
            "\n"
          ],
          "name": "stdout"
        }
      ]
    },
    {
      "cell_type": "code",
      "metadata": {
        "id": "yR2PqWDQDylS"
      },
      "source": [
        "#importing all necessary libraries\n",
        "import numpy as np \n",
        "import pandas as pd \n",
        "import matplotlib.pyplot as plt \n",
        "from sklearn.model_selection import train_test_split \n",
        "from sklearn.linear_model import LinearRegression \n",
        "from sklearn.metrics import mean_squared_error, r2_score\n",
        "from sklearn.preprocessing import PolynomialFeatures"
      ],
      "execution_count": null,
      "outputs": []
    },
    {
      "cell_type": "markdown",
      "metadata": {
        "id": "zwFQKRgtWbz_"
      },
      "source": [
        "Load and return **boston house price dataset** from  \n",
        "(https://scikit-learn.org/stable/datasets/index.html#boston-dataset)"
      ]
    },
    {
      "cell_type": "code",
      "metadata": {
        "id": "u3GxRoFYERZ3"
      },
      "source": [
        "from sklearn.datasets import load_boston\n",
        "X, y = load_boston(return_X_y=True)"
      ],
      "execution_count": null,
      "outputs": []
    },
    {
      "cell_type": "code",
      "metadata": {
        "id": "PbK3868hH4hJ",
        "colab": {
          "base_uri": "https://localhost:8080/"
        },
        "outputId": "4438ab82-2cb0-4f9c-8957-91ff5c73a149"
      },
      "source": [
        "X.shape"
      ],
      "execution_count": null,
      "outputs": [
        {
          "output_type": "execute_result",
          "data": {
            "text/plain": [
              "(506, 13)"
            ]
          },
          "metadata": {
            "tags": []
          },
          "execution_count": 5
        }
      ]
    },
    {
      "cell_type": "code",
      "metadata": {
        "id": "kB3qG6hkJBvz",
        "colab": {
          "base_uri": "https://localhost:8080/"
        },
        "outputId": "20ef6794-f8ba-4b12-d7d7-22602c75c586"
      },
      "source": [
        "y[:5]"
      ],
      "execution_count": null,
      "outputs": [
        {
          "output_type": "execute_result",
          "data": {
            "text/plain": [
              "array([24. , 21.6, 34.7, 33.4, 36.2])"
            ]
          },
          "metadata": {
            "tags": []
          },
          "execution_count": 6
        }
      ]
    },
    {
      "cell_type": "code",
      "metadata": {
        "id": "N_rjA0LnEZs2",
        "colab": {
          "base_uri": "https://localhost:8080/"
        },
        "outputId": "91a6a341-a544-4f67-d3c8-2eb8e52c5b64"
      },
      "source": [
        "#Splitting the data into training and testing data\n",
        "X_train, X_test, y_train, y_test = train_test_split(X, y, test_size = 0.25) \n",
        "print(X_train.shape,X_test.shape,y_train.shape,y_test.shape)"
      ],
      "execution_count": null,
      "outputs": [
        {
          "output_type": "stream",
          "text": [
            "(379, 13) (127, 13) (379,) (127,)\n"
          ],
          "name": "stdout"
        }
      ]
    },
    {
      "cell_type": "code",
      "metadata": {
        "id": "YJ7Kr9gKEfBt"
      },
      "source": [
        "# creating an object of LinearRegression\n",
        "regr = LinearRegression() "
      ],
      "execution_count": null,
      "outputs": []
    },
    {
      "cell_type": "code",
      "metadata": {
        "id": "PbrEJklrEl0S",
        "colab": {
          "base_uri": "https://localhost:8080/"
        },
        "outputId": "7c648c47-2d05-4579-b10e-00cf068f87cb"
      },
      "source": [
        "#training data\n",
        "regr.fit(X_train, y_train) \n",
        "y_pred = regr.predict(X_test)\n",
        "rmse = np.sqrt(mean_squared_error(y_test,y_pred))\n",
        "r2 = r2_score(y_test,y_pred)\n",
        "print(rmse)\n",
        "print(r2)"
      ],
      "execution_count": null,
      "outputs": [
        {
          "output_type": "stream",
          "text": [
            "5.585947043978025\n",
            "0.6340487050516751\n"
          ],
          "name": "stdout"
        }
      ]
    },
    {
      "cell_type": "code",
      "metadata": {
        "id": "kLXVXHEZEtzb",
        "colab": {
          "base_uri": "https://localhost:8080/",
          "height": 279
        },
        "outputId": "913047da-7312-491f-8416-d4c4b6208b6d"
      },
      "source": [
        "fig,ax = plt.subplots()\n",
        "ax.scatter(y_test,y_pred)\n",
        "ax.set_xlabel('Measured')\n",
        "ax.set_ylabel('Predicted')\n",
        "plt.show()\n",
        "polynomial_features= PolynomialFeatures(degree=2)\n",
        "x_poly = polynomial_features.fit_transform(X)"
      ],
      "execution_count": null,
      "outputs": [
        {
          "output_type": "display_data",
          "data": {
            "image/png": "[encoded data removed]",
            "text/plain": [
              "<Figure size 432x288 with 1 Axes>"
            ]
          },
          "metadata": {
            "tags": [],
            "needs_background": "light"
          }
        }
      ]
    },
    {
      "cell_type": "code",
      "metadata": {
        "id": "jmsJXkhAExxR",
        "colab": {
          "base_uri": "https://localhost:8080/"
        },
        "outputId": "eca784c8-3d7b-4adb-f432-41dc999057cb"
      },
      "source": [
        "X_train, X_test, y_train, y_test = train_test_split(x_poly, y, test_size = 0.25) \n",
        "print(X_train.shape,X_test.shape,y_train.shape,y_test.shape)\n",
        "model = LinearRegression()\n",
        "model.fit(X_train, y_train)\n",
        "y_poly_pred = model.predict(X_test)\n",
        "\n",
        "rmse = np.sqrt(mean_squared_error(y_test,y_poly_pred))\n",
        "r2 = r2_score(y_test,y_poly_pred)\n",
        "print(rmse)\n",
        "print(r2)"
      ],
      "execution_count": null,
      "outputs": [
        {
          "output_type": "stream",
          "text": [
            "(379, 105) (127, 105) (379,) (127,)\n",
            "5.476249132215319\n",
            "0.609299709258821\n"
          ],
          "name": "stdout"
        }
      ]
    },
    {
      "cell_type": "code",
      "metadata": {
        "id": "hDr93vRADn-8",
        "colab": {
          "base_uri": "https://localhost:8080/",
          "height": 279
        },
        "outputId": "184ada7d-65e0-4d74-b025-c70c4cb14d3a"
      },
      "source": [
        "\n",
        "fig,ax = plt.subplots()\n",
        "ax.scatter(y_test,y_poly_pred)\n",
        "ax.set_xlabel('Measured')\n",
        "ax.set_ylabel('Predicted')\n",
        "plt.show()"
      ],
      "execution_count": null,
      "outputs": [
        {
          "output_type": "display_data",
          "data": {
            "image/png": "[encoded data removed]",
            "text/plain": [
              "<Figure size 432x288 with 1 Axes>"
            ]
          },
          "metadata": {
            "tags": [],
            "needs_background": "light"
          }
        }
      ]
    }
  ]
}